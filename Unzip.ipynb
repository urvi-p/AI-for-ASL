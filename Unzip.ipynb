{
 "cells": [
  {
   "cell_type": "code",
   "execution_count": 3,
   "id": "84272afa",
   "metadata": {},
   "outputs": [],
   "source": [
    "import zipfile\n",
    "with zipfile.ZipFile(\"asl_alphabet_test.zip\", 'r') as zip_ref:\n",
    "    zip_ref.extractall(\"alphabet_test\")\n",
    "with zipfile.ZipFile(\"alphabet_train.zip\", 'r') as zip_ref:\n",
    "    zip_ref.extractall(\"alphabet_train\")"
   ]
  },
  {
   "cell_type": "code",
   "execution_count": null,
   "id": "e8967d86",
   "metadata": {},
   "outputs": [],
   "source": []
  }
 ],
 "metadata": {
  "kernelspec": {
   "display_name": "Python 3",
   "language": "python",
   "name": "python3"
  },
  "language_info": {
   "codemirror_mode": {
    "name": "ipython",
    "version": 3
   },
   "file_extension": ".py",
   "mimetype": "text/x-python",
   "name": "python",
   "nbconvert_exporter": "python",
   "pygments_lexer": "ipython3",
   "version": "3.6.13"
  }
 },
 "nbformat": 4,
 "nbformat_minor": 5
}
